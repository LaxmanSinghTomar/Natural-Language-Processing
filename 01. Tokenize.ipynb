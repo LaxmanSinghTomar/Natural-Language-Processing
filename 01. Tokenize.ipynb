{
 "cells": [
  {
   "cell_type": "markdown",
   "metadata": {},
   "source": [
    "## Tokenization "
   ]
  },
  {
   "cell_type": "markdown",
   "metadata": {},
   "source": [
    "First we will import required libraries, we will use nltk for tokenization\n",
    "\n",
    "There are following types of tokenizer:\n",
    "1. Sentence Tokenizer\n",
    "2. Word Tokenizer\n",
    "3. Tweet Tokenizer\n",
    "4. Space Tokenizer\n",
    "5. Tab Tokenizer\n",
    "6. Line Tokenizer\n",
    "7. Stanford Tokenizer\n",
    "8. MWE Tokenizer\n",
    "9. WordPunct Tokenizer"
   ]
  },
  {
   "cell_type": "markdown",
   "metadata": {},
   "source": [
    "Importing relevant tokenizersfrom nltk"
   ]
  },
  {
   "cell_type": "code",
   "execution_count": 71,
   "metadata": {},
   "outputs": [],
   "source": [
    "from nltk.tokenize import sent_tokenize\n",
    "from nltk.tokenize import word_tokenize\n",
    "from nltk.tokenize import TabTokenizer\n",
    "from nltk.tokenize import LineTokenizer\n",
    "from nltk.tokenize import TweetTokenizer\n",
    "from nltk.tokenize import SpaceTokenizer"
   ]
  },
  {
   "cell_type": "markdown",
   "metadata": {},
   "source": [
    "Input text which we are going to tokenize"
   ]
  },
  {
   "cell_type": "code",
   "execution_count": 72,
   "metadata": {},
   "outputs": [],
   "source": [
    "text = '''Obama was born in Honolulu, Hawaii. After graduating from Columbia University in 1983, he worked as a community organizer in Chicago. In 1988, he enrolled in Harvard Law School, where he was the first black president of the Harvard Law Review. After graduating, he became a civil rights attorney and an academic, teaching constitutional law at the University of Chicago Law School from 1992 to 2004. He represented the 13th district for three terms in the Illinois Senate from 1997 until 2004, when he ran for the U.S. Senate. He received national attention in 2004 with his March primary win, his well-received July Democratic National Convention keynote address, and his landslide November election to the Senate. In 2008, he was nominated for president a year after his campaign began, after a close primary campaign against Hillary Clinton. He was elected over Republican John McCain and was inaugurated on January 20, 2009. Nine months later, he was named the 2009 Nobel Peace Prize laureate. Regarded as a centrist New Democrat, Obama signed many landmark bills into law during his first two years in office. The main reforms that were passed include the Patient Protection and Affordable Care Act (commonly referred to as the \"Affordable Care Act\" or \"Obamacare\"), the Dodd–Frank Wall Street Reform and Consumer Protection Act, and the Don't Ask, Don't Tell Repeal Act of 2010. The American Recovery and Reinvestment Act of 2009 and Tax Relief, Unemployment Insurance Reauthorization, and Job Creation Act of 2010 served as economic stimulus amidst the Great Recession. After a lengthy debate over the national debt limit, he signed the Budget Control and the American Taxpayer Relief Acts. In foreign policy, he increased U.S. troop levels in Afghanistan, reduced nuclear weapons with the United States–Russia New START treaty, and ended military involvement in the Iraq War. He ordered military involvement in Libya, contributing to the overthrow of Muammar Gaddafi. He also ordered the military operations that resulted in the deaths of Osama bin Laden and suspected Yemeni Al-Qaeda operative Anwar al-Awlaki.'''"
   ]
  },
  {
   "cell_type": "markdown",
   "metadata": {},
   "source": [
    "##### Sentence Tokenizer\n",
    "\n",
    "Call sent_tokenize and passing text as a parameter. "
   ]
  },
  {
   "cell_type": "code",
   "execution_count": 57,
   "metadata": {},
   "outputs": [
    {
     "name": "stdout",
     "output_type": "stream",
     "text": [
      "['Obama was born in Honolulu, Hawaii.', 'After graduating from Columbia University in 1983, he worked as a community organizer in Chicago.', 'In 1988, he enrolled in Harvard Law School, where he was the first black president of the Harvard Law Review.', 'After graduating, he became a civil rights attorney and an academic, teaching constitutional law at the University of Chicago Law School from 1992 to 2004.', 'He represented the 13th district for three terms in the Illinois Senate from 1997 until 2004, when he ran for the U.S. Senate.', 'He received national attention in 2004 with his March primary win, his well-received July Democratic National Convention keynote address, and his landslide November election to the Senate.', 'In 2008, he was nominated for president a year after his campaign began, after a close primary campaign against Hillary Clinton.', 'He was elected over Republican John McCain and was inaugurated on January 20, 2009.', 'Nine months later, he was named the 2009 Nobel Peace Prize laureate.', 'Regarded as a centrist New Democrat, Obama signed many landmark bills into law during his first two years in office.', 'The main reforms that were passed include the Patient Protection and Affordable Care Act (commonly referred to as the \"Affordable Care Act\" or \"Obamacare\"), the Dodd–Frank Wall Street Reform and Consumer Protection Act, and the Don\\'t Ask, Don\\'t Tell Repeal Act of 2010.', 'The American Recovery and Reinvestment Act of 2009 and Tax Relief, Unemployment Insurance Reauthorization, and Job Creation Act of 2010 served as economic stimulus amidst the Great Recession.', 'After a lengthy debate over the national debt limit, he signed the Budget Control and the American Taxpayer Relief Acts.', 'In foreign policy, he increased U.S. troop levels in Afghanistan, reduced nuclear weapons with the United States–Russia New START treaty, and ended military involvement in the Iraq War.', 'He ordered military involvement in Libya, contributing to the overthrow of Muammar Gaddafi.', 'He also ordered the military operations that resulted in the deaths of Osama bin Laden and suspected Yemeni Al-Qaeda operative Anwar al-Awlaki.']\n"
     ]
    }
   ],
   "source": [
    "print(sent_tokenize(text))"
   ]
  },
  {
   "cell_type": "markdown",
   "metadata": {},
   "source": [
    "##### Word Tokenizer\n",
    "Call word_tokenize and passing text as a parameter."
   ]
  },
  {
   "cell_type": "code",
   "execution_count": 58,
   "metadata": {},
   "outputs": [
    {
     "name": "stdout",
     "output_type": "stream",
     "text": [
      "['Obama', 'was', 'born', 'in', 'Honolulu', ',', 'Hawaii', '.', 'After', 'graduating', 'from', 'Columbia', 'University', 'in', '1983', ',', 'he', 'worked', 'as', 'a', 'community', 'organizer', 'in', 'Chicago', '.', 'In', '1988', ',', 'he', 'enrolled', 'in', 'Harvard', 'Law', 'School', ',', 'where', 'he', 'was', 'the', 'first', 'black', 'president', 'of', 'the', 'Harvard', 'Law', 'Review', '.', 'After', 'graduating', ',', 'he', 'became', 'a', 'civil', 'rights', 'attorney', 'and', 'an', 'academic', ',', 'teaching', 'constitutional', 'law', 'at', 'the', 'University', 'of', 'Chicago', 'Law', 'School', 'from', '1992', 'to', '2004', '.', 'He', 'represented', 'the', '13th', 'district', 'for', 'three', 'terms', 'in', 'the', 'Illinois', 'Senate', 'from', '1997', 'until', '2004', ',', 'when', 'he', 'ran', 'for', 'the', 'U.S.', 'Senate', '.', 'He', 'received', 'national', 'attention', 'in', '2004', 'with', 'his', 'March', 'primary', 'win', ',', 'his', 'well-received', 'July', 'Democratic', 'National', 'Convention', 'keynote', 'address', ',', 'and', 'his', 'landslide', 'November', 'election', 'to', 'the', 'Senate', '.', 'In', '2008', ',', 'he', 'was', 'nominated', 'for', 'president', 'a', 'year', 'after', 'his', 'campaign', 'began', ',', 'after', 'a', 'close', 'primary', 'campaign', 'against', 'Hillary', 'Clinton', '.', 'He', 'was', 'elected', 'over', 'Republican', 'John', 'McCain', 'and', 'was', 'inaugurated', 'on', 'January', '20', ',', '2009', '.', 'Nine', 'months', 'later', ',', 'he', 'was', 'named', 'the', '2009', 'Nobel', 'Peace', 'Prize', 'laureate', '.', 'Regarded', 'as', 'a', 'centrist', 'New', 'Democrat', ',', 'Obama', 'signed', 'many', 'landmark', 'bills', 'into', 'law', 'during', 'his', 'first', 'two', 'years', 'in', 'office', '.', 'The', 'main', 'reforms', 'that', 'were', 'passed', 'include', 'the', 'Patient', 'Protection', 'and', 'Affordable', 'Care', 'Act', '(', 'commonly', 'referred', 'to', 'as', 'the', '``', 'Affordable', 'Care', 'Act', \"''\", 'or', '``', 'Obamacare', \"''\", ')', ',', 'the', 'Dodd–Frank', 'Wall', 'Street', 'Reform', 'and', 'Consumer', 'Protection', 'Act', ',', 'and', 'the', 'Do', \"n't\", 'Ask', ',', 'Do', \"n't\", 'Tell', 'Repeal', 'Act', 'of', '2010', '.', 'The', 'American', 'Recovery', 'and', 'Reinvestment', 'Act', 'of', '2009', 'and', 'Tax', 'Relief', ',', 'Unemployment', 'Insurance', 'Reauthorization', ',', 'and', 'Job', 'Creation', 'Act', 'of', '2010', 'served', 'as', 'economic', 'stimulus', 'amidst', 'the', 'Great', 'Recession', '.', 'After', 'a', 'lengthy', 'debate', 'over', 'the', 'national', 'debt', 'limit', ',', 'he', 'signed', 'the', 'Budget', 'Control', 'and', 'the', 'American', 'Taxpayer', 'Relief', 'Acts', '.', 'In', 'foreign', 'policy', ',', 'he', 'increased', 'U.S.', 'troop', 'levels', 'in', 'Afghanistan', ',', 'reduced', 'nuclear', 'weapons', 'with', 'the', 'United', 'States–Russia', 'New', 'START', 'treaty', ',', 'and', 'ended', 'military', 'involvement', 'in', 'the', 'Iraq', 'War', '.', 'He', 'ordered', 'military', 'involvement', 'in', 'Libya', ',', 'contributing', 'to', 'the', 'overthrow', 'of', 'Muammar', 'Gaddafi', '.', 'He', 'also', 'ordered', 'the', 'military', 'operations', 'that', 'resulted', 'in', 'the', 'deaths', 'of', 'Osama', 'bin', 'Laden', 'and', 'suspected', 'Yemeni', 'Al-Qaeda', 'operative', 'Anwar', 'al-Awlaki', '.']\n"
     ]
    }
   ],
   "source": [
    "print(word_tokenize(text))"
   ]
  },
  {
   "cell_type": "markdown",
   "metadata": {},
   "source": [
    "##### Line Tokenizer\n",
    "Make a object of Line Tokenizer as Obj"
   ]
  },
  {
   "cell_type": "code",
   "execution_count": 73,
   "metadata": {},
   "outputs": [],
   "source": [
    "obj = LineTokenizer()"
   ]
  },
  {
   "cell_type": "code",
   "execution_count": 74,
   "metadata": {},
   "outputs": [],
   "source": [
    "text = \"This is a explanation of Line Tokenizer. \\n Line Tokenizer is used to tokenize on lines.\""
   ]
  },
  {
   "cell_type": "code",
   "execution_count": 75,
   "metadata": {},
   "outputs": [
    {
     "name": "stdout",
     "output_type": "stream",
     "text": [
      "['This is a explanation of Line Tokenizer. ', ' Line Tokenizer is used to tokenize on lines.']\n"
     ]
    }
   ],
   "source": [
    "print(obj.tokenize(text))"
   ]
  },
  {
   "cell_type": "markdown",
   "metadata": {},
   "source": [
    "##### Space Tokenizer\n",
    "Make a object of Space Tokenizer as Obj"
   ]
  },
  {
   "cell_type": "code",
   "execution_count": 62,
   "metadata": {},
   "outputs": [],
   "source": [
    "obj = SpaceTokenizer()"
   ]
  },
  {
   "cell_type": "code",
   "execution_count": 63,
   "metadata": {},
   "outputs": [],
   "source": [
    "text = \"This is a explanation of Line Tokenizer. \\n Line Tokenizer is used to tokenize on lines.\""
   ]
  },
  {
   "cell_type": "code",
   "execution_count": 64,
   "metadata": {},
   "outputs": [
    {
     "name": "stdout",
     "output_type": "stream",
     "text": [
      "['This', 'is', 'a', 'explanation', 'of', 'Line', 'Tokenizer.', '\\n', 'Line', 'Tokenizer', 'is', 'used', 'to', 'tokenize', 'on', 'lines.']\n"
     ]
    }
   ],
   "source": [
    "print(obj.tokenize(text))"
   ]
  },
  {
   "cell_type": "markdown",
   "metadata": {},
   "source": [
    "##### Tab Tokenizer\n",
    "Make a object of Tab Tokenizer as Obj"
   ]
  },
  {
   "cell_type": "code",
   "execution_count": 65,
   "metadata": {},
   "outputs": [],
   "source": [
    "text = \"This is a explanation \\tof Line Tokenizer. \\n Line Tokenizer is used to \\ttokenize on lines.\""
   ]
  },
  {
   "cell_type": "code",
   "execution_count": 66,
   "metadata": {},
   "outputs": [],
   "source": [
    "obj = TabTokenizer()"
   ]
  },
  {
   "cell_type": "code",
   "execution_count": 67,
   "metadata": {},
   "outputs": [
    {
     "name": "stdout",
     "output_type": "stream",
     "text": [
      "['This is a explanation ', 'of Line Tokenizer. \\n Line Tokenizer is used to ', 'tokenize on lines.']\n"
     ]
    }
   ],
   "source": [
    "print(obj.tokenize(text))"
   ]
  },
  {
   "cell_type": "markdown",
   "metadata": {},
   "source": [
    "#### Tweet Tokenizer\n",
    "Make a object of Tweet Tokenizer as Obj"
   ]
  },
  {
   "cell_type": "code",
   "execution_count": 68,
   "metadata": {},
   "outputs": [],
   "source": [
    "text = \":-) <> () {} [] :-p\""
   ]
  },
  {
   "cell_type": "code",
   "execution_count": 69,
   "metadata": {},
   "outputs": [],
   "source": [
    "obj = TweetTokenizer()"
   ]
  },
  {
   "cell_type": "code",
   "execution_count": 70,
   "metadata": {},
   "outputs": [
    {
     "name": "stdout",
     "output_type": "stream",
     "text": [
      "[':-)', '<', '>', '(', ')', '{', '}', '[', ']', ':-p']\n"
     ]
    }
   ],
   "source": [
    "print(obj.tokenize(text))"
   ]
  },
  {
   "cell_type": "markdown",
   "metadata": {},
   "source": [
    "#### End of Tokenize notebook"
   ]
  },
  {
   "cell_type": "code",
   "execution_count": null,
   "metadata": {},
   "outputs": [],
   "source": []
  }
 ],
 "metadata": {
  "kernelspec": {
   "display_name": "Python 3",
   "language": "python",
   "name": "python3"
  },
  "language_info": {
   "codemirror_mode": {
    "name": "ipython",
    "version": 3
   },
   "file_extension": ".py",
   "mimetype": "text/x-python",
   "name": "python",
   "nbconvert_exporter": "python",
   "pygments_lexer": "ipython3",
   "version": "3.6.0"
  }
 },
 "nbformat": 4,
 "nbformat_minor": 2
}
