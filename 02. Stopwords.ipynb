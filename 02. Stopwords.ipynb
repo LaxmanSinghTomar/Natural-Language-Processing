{
 "cells": [
  {
   "cell_type": "markdown",
   "metadata": {},
   "source": [
    "Import required libraries <br>\n",
    "stopwords from nltk.corpus provides us with a list of stopwords"
   ]
  },
  {
   "cell_type": "code",
   "execution_count": 4,
   "metadata": {},
   "outputs": [],
   "source": [
    "from nltk.corpus import stopwords"
   ]
  },
  {
   "cell_type": "markdown",
   "metadata": {},
   "source": [
    "tokenize sentence into words so that we can match and remove stopwords"
   ]
  },
  {
   "cell_type": "code",
   "execution_count": 5,
   "metadata": {},
   "outputs": [],
   "source": [
    "from nltk.tokenize import word_tokenize "
   ]
  },
  {
   "cell_type": "code",
   "execution_count": 10,
   "metadata": {},
   "outputs": [
    {
     "name": "stdout",
     "output_type": "stream",
     "text": [
      "Word Tokens: ['Barack', 'Hussein', 'Obama', 'II', 'is', 'an', 'American', 'attorney', 'and', 'politician', 'who', 'served', 'as', 'the', '44th', 'president', 'of', 'the', 'United', 'States', 'from', '2009', 'to', '2017', '.', 'A', 'member', 'of', 'the', 'Democratic', 'Party', ',', 'he', 'was', 'the', 'first', 'African', 'American', 'to', 'be', 'elected', 'to', 'the', 'presidency', '.']\n",
      "\n",
      "Sentence without stopwords: ['Barack', 'Hussein', 'Obama', 'II', 'American', 'attorney', 'politician', 'served', '44th', 'president', 'United', 'States', '2009', '2017', '.', 'A', 'member', 'Democratic', 'Party', ',', 'first', 'African', 'American', 'elected', 'presidency', '.']\n"
     ]
    }
   ],
   "source": [
    "sentence = '''Barack Hussein Obama II is an American attorney and politician who served as the \n",
    "        44th president of the United States from 2009 to 2017. A member of the Democratic Party, \n",
    "        he was the first African American to be elected to the presidency.'''\n",
    "  \n",
    "stop_words = set(stopwords.words('english')) \n",
    "word_tokens = word_tokenize(sentence) \n",
    "  \n",
    "sentence_without_stopwords = [w for w in word_tokens if not w in stop_words] \n",
    "  \n",
    "sentence_without_stopwords = [] \n",
    "  \n",
    "for w in word_tokens: \n",
    "    if w not in stop_words: \n",
    "        sentence_without_stopwords.append(w) \n",
    "  \n",
    "print(\"Word Tokens: \" + str(word_tokens)+ '\\n') \n",
    "print(\"Sentence without stopwords: \"+ str(sentence_without_stopwords))"
   ]
  },
  {
   "cell_type": "markdown",
   "metadata": {},
   "source": [
    "End of Notebook"
   ]
  },
  {
   "cell_type": "code",
   "execution_count": null,
   "metadata": {},
   "outputs": [],
   "source": []
  }
 ],
 "metadata": {
  "kernelspec": {
   "display_name": "Python 3",
   "language": "python",
   "name": "python3"
  },
  "language_info": {
   "codemirror_mode": {
    "name": "ipython",
    "version": 3
   },
   "file_extension": ".py",
   "mimetype": "text/x-python",
   "name": "python",
   "nbconvert_exporter": "python",
   "pygments_lexer": "ipython3",
   "version": "3.6.0"
  }
 },
 "nbformat": 4,
 "nbformat_minor": 2
}
