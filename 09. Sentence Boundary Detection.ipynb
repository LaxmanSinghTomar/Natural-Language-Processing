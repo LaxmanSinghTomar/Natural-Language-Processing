{
 "cells": [
  {
   "cell_type": "code",
   "execution_count": 20,
   "metadata": {},
   "outputs": [
    {
     "name": "stdout",
     "output_type": "stream",
     "text": [
      "['My name is Jonas E. Smith.', 'Please turn to p. 55.']\n"
     ]
    }
   ],
   "source": [
    "import pysbd\n",
    "text = \"My name is Jonas E. Smith. Please turn to p. 55.\"\n",
    "seg = pysbd.Segmenter(language=\"en\", clean=False)\n",
    "print(seg.segment(text))"
   ]
  },
  {
   "cell_type": "code",
   "execution_count": 21,
   "metadata": {},
   "outputs": [
    {
     "name": "stdout",
     "output_type": "stream",
     "text": [
      "[My name is Jonas E. Smith., Please turn to p. 55.]\n"
     ]
    }
   ],
   "source": [
    "import spacy\n",
    "from pysbd.utils import PySBDFactory\n",
    "\n",
    "nlp = spacy.blank('en')\n",
    "\n",
    "# explicitly adding component to pipeline\n",
    "# (recommended - makes it more readable to tell what's going on)\n",
    "nlp.add_pipe(PySBDFactory(nlp))\n",
    "\n",
    "# or you can use it implicitly with keyword\n",
    "# pysbd = nlp.create_pipe('pysbd')\n",
    "# nlp.add_pipe(pysbd)\n",
    "\n",
    "doc = nlp('My name is Jonas E. Smith. Please turn to p. 55.')\n",
    "print(list(doc.sents))"
   ]
  },
  {
   "cell_type": "code",
   "execution_count": 22,
   "metadata": {},
   "outputs": [],
   "source": [
    "# Custom Boundary Detection using Spacy"
   ]
  },
  {
   "cell_type": "code",
   "execution_count": null,
   "metadata": {},
   "outputs": [],
   "source": []
  }
 ],
 "metadata": {
  "kernelspec": {
   "display_name": "Python 3",
   "language": "python",
   "name": "python3"
  },
  "language_info": {
   "codemirror_mode": {
    "name": "ipython",
    "version": 3
   },
   "file_extension": ".py",
   "mimetype": "text/x-python",
   "name": "python",
   "nbconvert_exporter": "python",
   "pygments_lexer": "ipython3",
   "version": "3.6.0"
  }
 },
 "nbformat": 4,
 "nbformat_minor": 2
}
